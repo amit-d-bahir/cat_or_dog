{
 "cells": [
  {
   "cell_type": "code",
   "execution_count": 1,
   "metadata": {},
   "outputs": [
    {
     "name": "stderr",
     "output_type": "stream",
     "text": [
      "Using TensorFlow backend.\n"
     ]
    }
   ],
   "source": [
    "# Part 1 -> Building the CNN\n",
    "\n",
    "# Importing the Keras libraries and packages\n",
    "from keras.models import Sequential\n",
    "from keras.layers import Convolution2D\n",
    "from keras.layers import MaxPooling2D\n",
    "from keras.layers import Flatten\n",
    "from keras.layers import Dense"
   ]
  },
  {
   "cell_type": "code",
   "execution_count": 2,
   "metadata": {},
   "outputs": [],
   "source": [
    "# Initialising the CNN\n",
    "classifier = Sequential()"
   ]
  },
  {
   "cell_type": "code",
   "execution_count": 3,
   "metadata": {},
   "outputs": [
    {
     "name": "stdout",
     "output_type": "stream",
     "text": [
      "WARNING:tensorflow:From /home/amit_bahir/.local/lib/python3.5/site-packages/tensorflow/python/framework/op_def_library.py:263: colocate_with (from tensorflow.python.framework.ops) is deprecated and will be removed in a future version.\n",
      "Instructions for updating:\n",
      "Colocations handled automatically by placer.\n"
     ]
    },
    {
     "name": "stderr",
     "output_type": "stream",
     "text": [
      "/usr/local/lib/python3.5/dist-packages/ipykernel_launcher.py:2: UserWarning: Update your `Conv2D` call to the Keras 2 API: `Conv2D(32, (3, 3), input_shape=(64, 64, 3..., activation=\"relu\")`\n",
      "  \n"
     ]
    }
   ],
   "source": [
    "# Step 1 -> Convolution\n",
    "classifier.add(Convolution2D(32, 3, 3, input_shape = (64, 64, 3),activation = 'relu'))"
   ]
  },
  {
   "cell_type": "code",
   "execution_count": 4,
   "metadata": {},
   "outputs": [],
   "source": [
    "# Step 2 -> Pooling\n",
    "classifier.add(MaxPooling2D(pool_size = (2, 2)))\n",
    "# Dvides the size by 2"
   ]
  },
  {
   "cell_type": "code",
   "execution_count": 5,
   "metadata": {},
   "outputs": [
    {
     "name": "stderr",
     "output_type": "stream",
     "text": [
      "/usr/local/lib/python3.5/dist-packages/ipykernel_launcher.py:4: UserWarning: Update your `Conv2D` call to the Keras 2 API: `Conv2D(32, (3, 3), activation=\"relu\")`\n",
      "  after removing the cwd from sys.path.\n"
     ]
    }
   ],
   "source": [
    "# Adding another Convolution layer\n",
    "#     We need not use the input_shape as the input is not the image but it is the result\n",
    "#     obtained from the previous two layers...\n",
    "classifier.add(Convolution2D(32, 3, 3, activation = 'relu'))\n",
    "\n",
    "classifier.add(MaxPooling2D(pool_size = (2, 2)))"
   ]
  },
  {
   "cell_type": "code",
   "execution_count": 6,
   "metadata": {},
   "outputs": [],
   "source": [
    "# Step 3 -> Flattening\n",
    "classifier.add(Flatten())\n",
    "# Contains all the info about the spatial structure of our images"
   ]
  },
  {
   "cell_type": "code",
   "execution_count": 7,
   "metadata": {},
   "outputs": [],
   "source": [
    "# Step 4 -> Full Connection\n",
    "#     Adding the hidden layer\n",
    "classifier.add(Dense(128, activation = 'relu'))\n",
    "\n",
    "#     Adding the output layer\n",
    "classifier.add(Dense(1, activation = 'sigmoid'))"
   ]
  },
  {
   "cell_type": "code",
   "execution_count": 8,
   "metadata": {},
   "outputs": [],
   "source": [
    "# Compiling the CNN\n",
    "classifier.compile(optimizer = 'adam', loss= 'binary_crossentropy', metrics= ['accuracy'])"
   ]
  },
  {
   "cell_type": "code",
   "execution_count": 9,
   "metadata": {},
   "outputs": [
    {
     "name": "stdout",
     "output_type": "stream",
     "text": [
      "Found 8000 images belonging to 2 classes.\n",
      "Found 2000 images belonging to 2 classes.\n",
      "WARNING:tensorflow:From /home/amit_bahir/.local/lib/python3.5/site-packages/tensorflow/python/ops/math_ops.py:3066: to_int32 (from tensorflow.python.ops.math_ops) is deprecated and will be removed in a future version.\n",
      "Instructions for updating:\n",
      "Use tf.cast instead.\n",
      "Epoch 1/25\n",
      "8000/8000 [==============================] - 2575s 322ms/step - loss: 0.3327 - acc: 0.8475 - val_loss: 0.6029 - val_acc: 0.8044\n",
      "Epoch 2/25\n",
      "8000/8000 [==============================] - 2523s 315ms/step - loss: 0.0788 - acc: 0.9713 - val_loss: 0.8948 - val_acc: 0.8002\n",
      "Epoch 3/25\n",
      "8000/8000 [==============================] - 2587s 323ms/step - loss: 0.0424 - acc: 0.9854 - val_loss: 1.1583 - val_acc: 0.8049\n",
      "Epoch 4/25\n",
      "8000/8000 [==============================] - 2600s 325ms/step - loss: 0.0307 - acc: 0.9896 - val_loss: 1.1931 - val_acc: 0.8051\n",
      "Epoch 5/25\n",
      "8000/8000 [==============================] - 2562s 320ms/step - loss: 0.0264 - acc: 0.9911 - val_loss: 1.1483 - val_acc: 0.8061\n",
      "Epoch 6/25\n",
      "8000/8000 [==============================] - 2466s 308ms/step - loss: 0.0221 - acc: 0.9929 - val_loss: 1.3180 - val_acc: 0.8148\n",
      "Epoch 7/25\n",
      "8000/8000 [==============================] - 2329s 291ms/step - loss: 0.0195 - acc: 0.9938 - val_loss: 1.2850 - val_acc: 0.8119\n",
      "Epoch 8/25\n",
      "8000/8000 [==============================] - 2467s 308ms/step - loss: 0.0175 - acc: 0.9945 - val_loss: 1.3869 - val_acc: 0.8060\n",
      "Epoch 9/25\n",
      "8000/8000 [==============================] - 2478s 310ms/step - loss: 0.0157 - acc: 0.9950 - val_loss: 1.4788 - val_acc: 0.7982\n",
      "Epoch 10/25\n",
      "8000/8000 [==============================] - 2397s 300ms/step - loss: 0.0138 - acc: 0.9956 - val_loss: 1.4216 - val_acc: 0.8158\n",
      "Epoch 11/25\n",
      "8000/8000 [==============================] - 2445s 306ms/step - loss: 0.0134 - acc: 0.9958 - val_loss: 1.4862 - val_acc: 0.8059\n",
      "Epoch 12/25\n",
      "8000/8000 [==============================] - 15316s 2s/step - loss: 0.0124 - acc: 0.9964 - val_loss: 1.5302 - val_acc: 0.8061\n",
      "Epoch 13/25\n",
      "8000/8000 [==============================] - 2459s 307ms/step - loss: 0.0112 - acc: 0.9965 - val_loss: 1.6090 - val_acc: 0.8050\n",
      "Epoch 14/25\n",
      "8000/8000 [==============================] - 2551s 319ms/step - loss: 0.0114 - acc: 0.9965 - val_loss: 1.6223 - val_acc: 0.8019\n",
      "Epoch 15/25\n",
      "8000/8000 [==============================] - 2572s 322ms/step - loss: 0.0099 - acc: 0.9970 - val_loss: 1.6495 - val_acc: 0.8105\n",
      "Epoch 16/25\n",
      "8000/8000 [==============================] - 2447s 306ms/step - loss: 0.0112 - acc: 0.9968 - val_loss: 1.7046 - val_acc: 0.7856\n",
      "Epoch 17/25\n",
      "8000/8000 [==============================] - 2441s 305ms/step - loss: 0.0095 - acc: 0.9972 - val_loss: 1.5832 - val_acc: 0.7975\n",
      "Epoch 18/25\n",
      "8000/8000 [==============================] - 2445s 306ms/step - loss: 0.0090 - acc: 0.9973 - val_loss: 1.7477 - val_acc: 0.8110\n",
      "Epoch 19/25\n",
      "8000/8000 [==============================] - 2413s 302ms/step - loss: 0.0084 - acc: 0.9976 - val_loss: 1.7337 - val_acc: 0.7999\n",
      "Epoch 20/25\n",
      "8000/8000 [==============================] - 2428s 303ms/step - loss: 0.0085 - acc: 0.9974 - val_loss: 1.7815 - val_acc: 0.7970\n",
      "Epoch 21/25\n",
      "8000/8000 [==============================] - 2429s 304ms/step - loss: 0.0086 - acc: 0.9975 - val_loss: 1.9170 - val_acc: 0.7884\n",
      "Epoch 22/25\n",
      "8000/8000 [==============================] - 2433s 304ms/step - loss: 0.0074 - acc: 0.9979 - val_loss: 1.7325 - val_acc: 0.8073\n",
      "Epoch 23/25\n",
      "8000/8000 [==============================] - 2969s 371ms/step - loss: 0.0079 - acc: 0.9978 - val_loss: 1.7951 - val_acc: 0.8009\n",
      "Epoch 24/25\n",
      "8000/8000 [==============================] - 1973s 247ms/step - loss: 0.0083 - acc: 0.9977 - val_loss: 1.7710 - val_acc: 0.7959\n",
      "Epoch 25/25\n",
      "8000/8000 [==============================] - 2385s 298ms/step - loss: 0.0067 - acc: 0.9981 - val_loss: 1.6589 - val_acc: 0.8062\n"
     ]
    },
    {
     "data": {
      "text/plain": [
       "<keras.callbacks.History at 0x7f11e1130fd0>"
      ]
     },
     "execution_count": 9,
     "metadata": {},
     "output_type": "execute_result"
    }
   ],
   "source": [
    "# Fitting the CNN model\n",
    "\n",
    "from keras.preprocessing.image import ImageDataGenerator\n",
    "\n",
    "train_datagen = ImageDataGenerator(\n",
    "        rescale=1./255,\n",
    "        shear_range=0.2,\n",
    "        zoom_range=0.2,\n",
    "        horizontal_flip=True)\n",
    "\n",
    "test_datagen = ImageDataGenerator(rescale=1./255)\n",
    "\n",
    "training_set = train_datagen.flow_from_directory('dataset/training_set',\n",
    "                                                    target_size=(64, 64),\n",
    "                                                    batch_size=32,\n",
    "                                                    class_mode='binary')\n",
    "\n",
    "test_set = test_datagen.flow_from_directory('dataset/test_set',\n",
    "                                               target_size=(64, 64),\n",
    "                                               batch_size=32,\n",
    "                                               class_mode='binary')\n",
    "\n",
    "classifier.fit_generator(\n",
    "        training_set,\n",
    "        steps_per_epoch=8000,\n",
    "        epochs=25,\n",
    "        validation_data=test_set,\n",
    "        validation_steps=2000)"
   ]
  },
  {
   "cell_type": "code",
   "execution_count": null,
   "metadata": {},
   "outputs": [],
   "source": []
  }
 ],
 "metadata": {
  "kernelspec": {
   "display_name": "Python 3",
   "language": "python",
   "name": "python3"
  },
  "language_info": {
   "codemirror_mode": {
    "name": "ipython",
    "version": 3
   },
   "file_extension": ".py",
   "mimetype": "text/x-python",
   "name": "python",
   "nbconvert_exporter": "python",
   "pygments_lexer": "ipython3",
   "version": "3.5.2"
  }
 },
 "nbformat": 4,
 "nbformat_minor": 2
}
